{
 "cells": [
  {
   "cell_type": "code",
   "execution_count": 1,
   "metadata": {},
   "outputs": [],
   "source": [
    "from __future__ import annotations\n",
    "\n",
    "import datetime\n",
    "from importlib import reload\n",
    "from pathlib import Path\n",
    "from typing import (\n",
    "    TypeVar,\n",
    ")\n",
    "\n",
    "import rich\n",
    "from mysoc_validator import Transcript\n",
    "\n",
    "from parl_motion_detector import motion_title_extraction, motions\n",
    "from parl_motion_detector.downloader import get_latest_for_date\n",
    "\n",
    "T = TypeVar(\"T\")\n",
    "\n",
    "debates_path = Path(\"..\", \"data\")\n",
    "tests_path = Path(\"..\", \"data\", \"tests\")"
   ]
  },
  {
   "cell_type": "code",
   "execution_count": 8,
   "metadata": {},
   "outputs": [],
   "source": [
    "reload(motion_title_extraction)\n",
    "reload(motions)\n",
    "\n",
    "\n",
    "debate_date = \"2019-01-29\"\n",
    "transcript_path = get_latest_for_date(\n",
    "    datetime.date.fromisoformat(debate_date), download_path=debates_path\n",
    ")\n",
    "transcript = Transcript.from_xml_path(transcript_path)\n",
    "\n",
    "found_motions = motions.get_motions(transcript, debate_date)\n",
    "\n",
    "# uncomment the next line to update the data for test comparisons (locking the below as correct)\n",
    "# found_motions.dump_test_data(tests_path)\n",
    "\n",
    "\n",
    "for m in found_motions:\n",
    "    if \"The Secretary of State must make\" in str(m):\n",
    "        rich.print(m)\n",
    "\n",
    "# rich.print(found_motions)\n",
    "\n",
    "# https://www.theyworkforyou.com/debates/?id=2024-04-24b.1035.1"
   ]
  },
  {
   "cell_type": "code",
   "execution_count": 4,
   "metadata": {},
   "outputs": [
    {
     "data": {
      "text/plain": [
       "<re.Match object; span=(0, 134), match='That the draft Economic Growth (Regulatory Functi>"
      ]
     },
     "execution_count": 4,
     "metadata": {},
     "output_type": "execute_result"
    }
   ],
   "source": [
    "import re\n",
    "\n",
    "t = re.compile(r\"^That the draft .+ be approved\", re.IGNORECASE)\n",
    "t.search(\n",
    "    \"That the draft Economic Growth (Regulatory Functions) (Amendment) Order 2024, which was laid before this House on 6 March, be approved.\"\n",
    ")"
   ]
  }
 ],
 "metadata": {
  "language_info": {
   "name": "python"
  }
 },
 "nbformat": 4,
 "nbformat_minor": 2
}
