{
 "cells": [
  {
   "cell_type": "code",
   "execution_count": 1,
   "metadata": {},
   "outputs": [],
   "source": [
    "from __future__ import annotations\n",
    "\n",
    "import datetime\n",
    "from importlib import reload\n",
    "from pathlib import Path\n",
    "from typing import (\n",
    "    TypeVar,\n",
    ")\n",
    "\n",
    "import rich\n",
    "from mysoc_validator import Transcript\n",
    "from mysoc_validator.models.transcripts import Chamber\n",
    "from mysoc_validator.utils.parlparse.downloader import get_latest_for_date\n",
    "\n",
    "from parl_motion_detector import motion_title_extraction, motions\n",
    "\n",
    "T = TypeVar(\"T\")\n",
    "\n",
    "debates_path = Path(\"..\", \"data\")\n",
    "tests_path = Path(\"..\", \"data\", \"tests\")"
   ]
  },
  {
   "cell_type": "code",
   "execution_count": 2,
   "metadata": {},
   "outputs": [
    {
     "data": {
      "text/html": [
       "<pre style=\"white-space:pre;overflow-x:auto;line-height:normal;font-family:Menlo,'DejaVu Sans Mono',consolas,'Courier New',monospace\"><span style=\"color: #800080; text-decoration-color: #800080; font-weight: bold\">Motion</span><span style=\"font-weight: bold\">(</span>\n",
       "    <span style=\"color: #808000; text-decoration-color: #808000\">date</span>=<span style=\"color: #008000; text-decoration-color: #008000\">'2025-04-01'</span>,\n",
       "    <span style=\"color: #808000; text-decoration-color: #808000\">motion_title</span>=<span style=\"color: #008000; text-decoration-color: #008000\">'Data (Use and Access) Bill - UK Legislation'</span>,\n",
       "    <span style=\"color: #808000; text-decoration-color: #808000\">major_heading_id</span>=<span style=\"color: #008000; text-decoration-color: #008000\">'uk.org.publicwhip/spor/2025-04-01.2.0'</span>,\n",
       "    <span style=\"color: #808000; text-decoration-color: #808000\">minor_heading_id</span>=<span style=\"color: #008000; text-decoration-color: #008000\">''</span>,\n",
       "    <span style=\"color: #808000; text-decoration-color: #808000\">major_heading_title</span>=<span style=\"color: #008000; text-decoration-color: #008000\">'Data (Use and Access) Bill'</span>,\n",
       "    <span style=\"color: #808000; text-decoration-color: #808000\">minor_heading_title</span>=<span style=\"color: #008000; text-decoration-color: #008000\">'None'</span>,\n",
       "    <span style=\"color: #808000; text-decoration-color: #808000\">speech_start_pid</span>=<span style=\"color: #008000; text-decoration-color: #008000\">'subitem/0'</span>,\n",
       "    <span style=\"color: #808000; text-decoration-color: #808000\">speech_id</span>=<span style=\"color: #008000; text-decoration-color: #008000\">'uk.org.publicwhip/spor/2025-04-01.2.1'</span>,\n",
       "    <span style=\"color: #808000; text-decoration-color: #808000\">final_speech_id</span>=<span style=\"color: #008000; text-decoration-color: #008000\">''</span>,\n",
       "    <span style=\"color: #808000; text-decoration-color: #808000\">end_reason</span>=<span style=\"color: #008000; text-decoration-color: #008000\">'sp_motion'</span>,\n",
       "    <span style=\"color: #808000; text-decoration-color: #808000\">chamber</span>=<span style=\"font-weight: bold\">&lt;</span><span style=\"color: #ff00ff; text-decoration-color: #ff00ff; font-weight: bold\">Chamber.SCOTLAND:</span><span style=\"color: #000000; text-decoration-color: #000000\"> </span><span style=\"color: #008000; text-decoration-color: #008000\">'scottish-parliament'</span><span style=\"font-weight: bold\">&gt;</span>,\n",
       "    <span style=\"color: #808000; text-decoration-color: #808000\">motion_lines</span>=<span style=\"font-weight: bold\">[</span>\n",
       "        <span style=\"color: #008000; text-decoration-color: #008000\">'The next item of business is consideration of legislative consent motion S6M-17009, </span>\n",
       "<span style=\"color: #008000; text-decoration-color: #008000\">in the name of Richard Lochhead, on the Data (Use and Access) Bill, which is United Kingdom </span>\n",
       "<span style=\"color: #008000; text-decoration-color: #008000\">legislation. I call Richard Lochhead to move the motion.'</span>,\n",
       "        <span style=\"color: #008000; text-decoration-color: #008000\">'That the Parliament agrees that clauses 1 to 11, 13, 18 to 26, 45(3), 48 and 123 of </span>\n",
       "<span style=\"color: #008000; text-decoration-color: #008000\">the Data (Use and Access) Bill, introduced in the House of Lords on 23 October 2024, so far </span>\n",
       "<span style=\"color: #008000; text-decoration-color: #008000\">as these matters fall within the legislative competence of the Scottish Parliament or alter </span>\n",
       "<span style=\"color: #008000; text-decoration-color: #008000\">the executive competence of the Scottish Ministers, should be considered by the UK </span>\n",
       "<span style=\"color: #008000; text-decoration-color: #008000\">Parliament.'</span>\n",
       "    <span style=\"font-weight: bold\">]</span>,\n",
       "    <span style=\"color: #808000; text-decoration-color: #808000\">flags</span>=<span style=\"font-weight: bold\">[</span><span style=\"color: #008000; text-decoration-color: #008000\">'scottish_expanded_motion'</span><span style=\"font-weight: bold\">]</span>,\n",
       "    <span style=\"color: #808000; text-decoration-color: #808000\">gid</span>=<span style=\"color: #008000; text-decoration-color: #008000\">'uk.org.publicwhip/spor/2025-04-01.2.1.0'</span>\n",
       "<span style=\"font-weight: bold\">)</span>\n",
       "</pre>\n"
      ],
      "text/plain": [
       "\u001b[1;35mMotion\u001b[0m\u001b[1m(\u001b[0m\n",
       "    \u001b[33mdate\u001b[0m=\u001b[32m'2025-04-01'\u001b[0m,\n",
       "    \u001b[33mmotion_title\u001b[0m=\u001b[32m'Data \u001b[0m\u001b[32m(\u001b[0m\u001b[32mUse and Access\u001b[0m\u001b[32m)\u001b[0m\u001b[32m Bill - UK Legislation'\u001b[0m,\n",
       "    \u001b[33mmajor_heading_id\u001b[0m=\u001b[32m'uk.org.publicwhip/spor/2025-04-01.2.0'\u001b[0m,\n",
       "    \u001b[33mminor_heading_id\u001b[0m=\u001b[32m''\u001b[0m,\n",
       "    \u001b[33mmajor_heading_title\u001b[0m=\u001b[32m'Data \u001b[0m\u001b[32m(\u001b[0m\u001b[32mUse and Access\u001b[0m\u001b[32m)\u001b[0m\u001b[32m Bill'\u001b[0m,\n",
       "    \u001b[33mminor_heading_title\u001b[0m=\u001b[32m'None'\u001b[0m,\n",
       "    \u001b[33mspeech_start_pid\u001b[0m=\u001b[32m'subitem/0'\u001b[0m,\n",
       "    \u001b[33mspeech_id\u001b[0m=\u001b[32m'uk.org.publicwhip/spor/2025-04-01.2.1'\u001b[0m,\n",
       "    \u001b[33mfinal_speech_id\u001b[0m=\u001b[32m''\u001b[0m,\n",
       "    \u001b[33mend_reason\u001b[0m=\u001b[32m'sp_motion'\u001b[0m,\n",
       "    \u001b[33mchamber\u001b[0m=\u001b[1m<\u001b[0m\u001b[1;95mChamber.SCOTLAND:\u001b[0m\u001b[39m \u001b[0m\u001b[32m'scottish-parliament'\u001b[0m\u001b[1m>\u001b[0m,\n",
       "    \u001b[33mmotion_lines\u001b[0m=\u001b[1m[\u001b[0m\n",
       "        \u001b[32m'The next item of business is consideration of legislative consent motion S6M-17009, \u001b[0m\n",
       "\u001b[32min the name of Richard Lochhead, on the Data \u001b[0m\u001b[32m(\u001b[0m\u001b[32mUse and Access\u001b[0m\u001b[32m)\u001b[0m\u001b[32m Bill, which is United Kingdom \u001b[0m\n",
       "\u001b[32mlegislation. I call Richard Lochhead to move the motion.'\u001b[0m,\n",
       "        \u001b[32m'That the Parliament agrees that clauses 1 to 11, 13, 18 to 26, 45\u001b[0m\u001b[32m(\u001b[0m\u001b[32m3\u001b[0m\u001b[32m)\u001b[0m\u001b[32m, 48 and 123 of \u001b[0m\n",
       "\u001b[32mthe Data \u001b[0m\u001b[32m(\u001b[0m\u001b[32mUse and Access\u001b[0m\u001b[32m)\u001b[0m\u001b[32m Bill, introduced in the House of Lords on 23 October 2024, so far \u001b[0m\n",
       "\u001b[32mas these matters fall within the legislative competence of the Scottish Parliament or alter \u001b[0m\n",
       "\u001b[32mthe executive competence of the Scottish Ministers, should be considered by the UK \u001b[0m\n",
       "\u001b[32mParliament.'\u001b[0m\n",
       "    \u001b[1m]\u001b[0m,\n",
       "    \u001b[33mflags\u001b[0m=\u001b[1m[\u001b[0m\u001b[32m'scottish_expanded_motion'\u001b[0m\u001b[1m]\u001b[0m,\n",
       "    \u001b[33mgid\u001b[0m=\u001b[32m'uk.org.publicwhip/spor/2025-04-01.2.1.0'\u001b[0m\n",
       "\u001b[1m)\u001b[0m\n"
      ]
     },
     "metadata": {},
     "output_type": "display_data"
    },
    {
     "data": {
      "text/html": [
       "<pre style=\"white-space:pre;overflow-x:auto;line-height:normal;font-family:Menlo,'DejaVu Sans Mono',consolas,'Courier New',monospace\"><span style=\"color: #800080; text-decoration-color: #800080; font-weight: bold\">Motion</span><span style=\"font-weight: bold\">(</span>\n",
       "    <span style=\"color: #808000; text-decoration-color: #808000\">date</span>=<span style=\"color: #008000; text-decoration-color: #008000\">'2025-04-01'</span>,\n",
       "    <span style=\"color: #808000; text-decoration-color: #808000\">motion_title</span>=<span style=\"color: #008000; text-decoration-color: #008000\">'Data (Use and Access) Bill - UK Legislation'</span>,\n",
       "    <span style=\"color: #808000; text-decoration-color: #808000\">major_heading_id</span>=<span style=\"color: #008000; text-decoration-color: #008000\">'uk.org.publicwhip/spor/2025-04-01.4.0'</span>,\n",
       "    <span style=\"color: #808000; text-decoration-color: #808000\">minor_heading_id</span>=<span style=\"color: #008000; text-decoration-color: #008000\">''</span>,\n",
       "    <span style=\"color: #808000; text-decoration-color: #808000\">major_heading_title</span>=<span style=\"color: #008000; text-decoration-color: #008000\">'Decision Time'</span>,\n",
       "    <span style=\"color: #808000; text-decoration-color: #808000\">minor_heading_title</span>=<span style=\"color: #008000; text-decoration-color: #008000\">'None'</span>,\n",
       "    <span style=\"color: #808000; text-decoration-color: #808000\">speech_start_pid</span>=<span style=\"color: #008000; text-decoration-color: #008000\">'subitem/0'</span>,\n",
       "    <span style=\"color: #808000; text-decoration-color: #808000\">speech_id</span>=<span style=\"color: #008000; text-decoration-color: #008000\">'uk.org.publicwhip/spor/2025-04-01.4.3'</span>,\n",
       "    <span style=\"color: #808000; text-decoration-color: #808000\">final_speech_id</span>=<span style=\"color: #008000; text-decoration-color: #008000\">''</span>,\n",
       "    <span style=\"color: #808000; text-decoration-color: #808000\">end_reason</span>=<span style=\"color: #008000; text-decoration-color: #008000\">'sp_motion'</span>,\n",
       "    <span style=\"color: #808000; text-decoration-color: #808000\">chamber</span>=<span style=\"font-weight: bold\">&lt;</span><span style=\"color: #ff00ff; text-decoration-color: #ff00ff; font-weight: bold\">Chamber.SCOTLAND:</span><span style=\"color: #000000; text-decoration-color: #000000\"> </span><span style=\"color: #008000; text-decoration-color: #008000\">'scottish-parliament'</span><span style=\"font-weight: bold\">&gt;</span>,\n",
       "    <span style=\"color: #808000; text-decoration-color: #808000\">motion_lines</span>=<span style=\"font-weight: bold\">[</span>\n",
       "        <span style=\"color: #008000; text-decoration-color: #008000\">'The next question is, that motion S6M-17009, in the name of Richard Lochhead, on the</span>\n",
       "<span style=\"color: #008000; text-decoration-color: #008000\">Data (Use and Access) Bill, which is United Kingdom legislation, be agreed to.'</span>,\n",
       "        <span style=\"color: #008000; text-decoration-color: #008000\">'That the Parliament agrees that clauses 1 to 11, 13, 18 to 26, 45(3), 48 and 123 of </span>\n",
       "<span style=\"color: #008000; text-decoration-color: #008000\">the Data (Use and Access) Bill, introduced in the House of Lords on 23 October 2024, so far </span>\n",
       "<span style=\"color: #008000; text-decoration-color: #008000\">as these matters fall within the legislative competence of the Scottish Parliament or alter </span>\n",
       "<span style=\"color: #008000; text-decoration-color: #008000\">the executive competence of the Scottish Ministers, should be considered by the UK </span>\n",
       "<span style=\"color: #008000; text-decoration-color: #008000\">Parliament.'</span>\n",
       "    <span style=\"font-weight: bold\">]</span>,\n",
       "    <span style=\"color: #808000; text-decoration-color: #808000\">flags</span>=<span style=\"font-weight: bold\">[</span><span style=\"color: #008000; text-decoration-color: #008000\">'scottish_expanded_motion'</span><span style=\"font-weight: bold\">]</span>,\n",
       "    <span style=\"color: #808000; text-decoration-color: #808000\">gid</span>=<span style=\"color: #008000; text-decoration-color: #008000\">'uk.org.publicwhip/spor/2025-04-01.4.3.0'</span>\n",
       "<span style=\"font-weight: bold\">)</span>\n",
       "</pre>\n"
      ],
      "text/plain": [
       "\u001b[1;35mMotion\u001b[0m\u001b[1m(\u001b[0m\n",
       "    \u001b[33mdate\u001b[0m=\u001b[32m'2025-04-01'\u001b[0m,\n",
       "    \u001b[33mmotion_title\u001b[0m=\u001b[32m'Data \u001b[0m\u001b[32m(\u001b[0m\u001b[32mUse and Access\u001b[0m\u001b[32m)\u001b[0m\u001b[32m Bill - UK Legislation'\u001b[0m,\n",
       "    \u001b[33mmajor_heading_id\u001b[0m=\u001b[32m'uk.org.publicwhip/spor/2025-04-01.4.0'\u001b[0m,\n",
       "    \u001b[33mminor_heading_id\u001b[0m=\u001b[32m''\u001b[0m,\n",
       "    \u001b[33mmajor_heading_title\u001b[0m=\u001b[32m'Decision Time'\u001b[0m,\n",
       "    \u001b[33mminor_heading_title\u001b[0m=\u001b[32m'None'\u001b[0m,\n",
       "    \u001b[33mspeech_start_pid\u001b[0m=\u001b[32m'subitem/0'\u001b[0m,\n",
       "    \u001b[33mspeech_id\u001b[0m=\u001b[32m'uk.org.publicwhip/spor/2025-04-01.4.3'\u001b[0m,\n",
       "    \u001b[33mfinal_speech_id\u001b[0m=\u001b[32m''\u001b[0m,\n",
       "    \u001b[33mend_reason\u001b[0m=\u001b[32m'sp_motion'\u001b[0m,\n",
       "    \u001b[33mchamber\u001b[0m=\u001b[1m<\u001b[0m\u001b[1;95mChamber.SCOTLAND:\u001b[0m\u001b[39m \u001b[0m\u001b[32m'scottish-parliament'\u001b[0m\u001b[1m>\u001b[0m,\n",
       "    \u001b[33mmotion_lines\u001b[0m=\u001b[1m[\u001b[0m\n",
       "        \u001b[32m'The next question is, that motion S6M-17009, in the name of Richard Lochhead, on the\u001b[0m\n",
       "\u001b[32mData \u001b[0m\u001b[32m(\u001b[0m\u001b[32mUse and Access\u001b[0m\u001b[32m)\u001b[0m\u001b[32m Bill, which is United Kingdom legislation, be agreed to.'\u001b[0m,\n",
       "        \u001b[32m'That the Parliament agrees that clauses 1 to 11, 13, 18 to 26, 45\u001b[0m\u001b[32m(\u001b[0m\u001b[32m3\u001b[0m\u001b[32m)\u001b[0m\u001b[32m, 48 and 123 of \u001b[0m\n",
       "\u001b[32mthe Data \u001b[0m\u001b[32m(\u001b[0m\u001b[32mUse and Access\u001b[0m\u001b[32m)\u001b[0m\u001b[32m Bill, introduced in the House of Lords on 23 October 2024, so far \u001b[0m\n",
       "\u001b[32mas these matters fall within the legislative competence of the Scottish Parliament or alter \u001b[0m\n",
       "\u001b[32mthe executive competence of the Scottish Ministers, should be considered by the UK \u001b[0m\n",
       "\u001b[32mParliament.'\u001b[0m\n",
       "    \u001b[1m]\u001b[0m,\n",
       "    \u001b[33mflags\u001b[0m=\u001b[1m[\u001b[0m\u001b[32m'scottish_expanded_motion'\u001b[0m\u001b[1m]\u001b[0m,\n",
       "    \u001b[33mgid\u001b[0m=\u001b[32m'uk.org.publicwhip/spor/2025-04-01.4.3.0'\u001b[0m\n",
       "\u001b[1m)\u001b[0m\n"
      ]
     },
     "metadata": {},
     "output_type": "display_data"
    },
    {
     "data": {
      "text/html": [
       "<pre style=\"white-space:pre;overflow-x:auto;line-height:normal;font-family:Menlo,'DejaVu Sans Mono',consolas,'Courier New',monospace\"><span style=\"color: #800080; text-decoration-color: #800080; font-weight: bold\">Motion</span><span style=\"font-weight: bold\">(</span>\n",
       "    <span style=\"color: #808000; text-decoration-color: #808000\">date</span>=<span style=\"color: #008000; text-decoration-color: #008000\">'2025-04-01'</span>,\n",
       "    <span style=\"color: #808000; text-decoration-color: #808000\">motion_title</span>=<span style=\"color: #008000; text-decoration-color: #008000\">'Decision Time'</span>,\n",
       "    <span style=\"color: #808000; text-decoration-color: #808000\">major_heading_id</span>=<span style=\"color: #008000; text-decoration-color: #008000\">'uk.org.publicwhip/spor/2025-04-01.4.0'</span>,\n",
       "    <span style=\"color: #808000; text-decoration-color: #808000\">minor_heading_id</span>=<span style=\"color: #008000; text-decoration-color: #008000\">''</span>,\n",
       "    <span style=\"color: #808000; text-decoration-color: #808000\">major_heading_title</span>=<span style=\"color: #008000; text-decoration-color: #008000\">'Decision Time'</span>,\n",
       "    <span style=\"color: #808000; text-decoration-color: #808000\">minor_heading_title</span>=<span style=\"color: #008000; text-decoration-color: #008000\">'None'</span>,\n",
       "    <span style=\"color: #808000; text-decoration-color: #808000\">speech_start_pid</span>=<span style=\"color: #008000; text-decoration-color: #008000\">'subitem/0'</span>,\n",
       "    <span style=\"color: #808000; text-decoration-color: #808000\">speech_id</span>=<span style=\"color: #008000; text-decoration-color: #008000\">'uk.org.publicwhip/spor/2025-04-01.4.3'</span>,\n",
       "    <span style=\"color: #808000; text-decoration-color: #808000\">final_speech_id</span>=<span style=\"color: #008000; text-decoration-color: #008000\">'uk.org.publicwhip/spor/2025-04-01.4.3'</span>,\n",
       "    <span style=\"color: #808000; text-decoration-color: #808000\">end_reason</span>=<span style=\"color: #008000; text-decoration-color: #008000\">'one line motion'</span>,\n",
       "    <span style=\"color: #808000; text-decoration-color: #808000\">chamber</span>=<span style=\"font-weight: bold\">&lt;</span><span style=\"color: #ff00ff; text-decoration-color: #ff00ff; font-weight: bold\">Chamber.SCOTLAND:</span><span style=\"color: #000000; text-decoration-color: #000000\"> </span><span style=\"color: #008000; text-decoration-color: #008000\">'scottish-parliament'</span><span style=\"font-weight: bold\">&gt;</span>,\n",
       "    <span style=\"color: #808000; text-decoration-color: #808000\">motion_lines</span>=<span style=\"font-weight: bold\">[</span>\n",
       "        <span style=\"color: #008000; text-decoration-color: #008000\">'The next question is, that motion S6M-17009, in the name of Richard Lochhead, on the</span>\n",
       "<span style=\"color: #008000; text-decoration-color: #008000\">Data (Use and Access) Bill, which is United Kingdom legislation, be agreed to.'</span>\n",
       "    <span style=\"font-weight: bold\">]</span>,\n",
       "    <span style=\"color: #808000; text-decoration-color: #808000\">flags</span>=<span style=\"font-weight: bold\">[</span><span style=\"color: #008000; text-decoration-color: #008000\">'one_line_motion'</span><span style=\"font-weight: bold\">]</span>,\n",
       "    <span style=\"color: #808000; text-decoration-color: #808000\">gid</span>=<span style=\"color: #008000; text-decoration-color: #008000\">'uk.org.publicwhip/spor/2025-04-01.4.3.0'</span>\n",
       "<span style=\"font-weight: bold\">)</span>\n",
       "</pre>\n"
      ],
      "text/plain": [
       "\u001b[1;35mMotion\u001b[0m\u001b[1m(\u001b[0m\n",
       "    \u001b[33mdate\u001b[0m=\u001b[32m'2025-04-01'\u001b[0m,\n",
       "    \u001b[33mmotion_title\u001b[0m=\u001b[32m'Decision Time'\u001b[0m,\n",
       "    \u001b[33mmajor_heading_id\u001b[0m=\u001b[32m'uk.org.publicwhip/spor/2025-04-01.4.0'\u001b[0m,\n",
       "    \u001b[33mminor_heading_id\u001b[0m=\u001b[32m''\u001b[0m,\n",
       "    \u001b[33mmajor_heading_title\u001b[0m=\u001b[32m'Decision Time'\u001b[0m,\n",
       "    \u001b[33mminor_heading_title\u001b[0m=\u001b[32m'None'\u001b[0m,\n",
       "    \u001b[33mspeech_start_pid\u001b[0m=\u001b[32m'subitem/0'\u001b[0m,\n",
       "    \u001b[33mspeech_id\u001b[0m=\u001b[32m'uk.org.publicwhip/spor/2025-04-01.4.3'\u001b[0m,\n",
       "    \u001b[33mfinal_speech_id\u001b[0m=\u001b[32m'uk.org.publicwhip/spor/2025-04-01.4.3'\u001b[0m,\n",
       "    \u001b[33mend_reason\u001b[0m=\u001b[32m'one line motion'\u001b[0m,\n",
       "    \u001b[33mchamber\u001b[0m=\u001b[1m<\u001b[0m\u001b[1;95mChamber.SCOTLAND:\u001b[0m\u001b[39m \u001b[0m\u001b[32m'scottish-parliament'\u001b[0m\u001b[1m>\u001b[0m,\n",
       "    \u001b[33mmotion_lines\u001b[0m=\u001b[1m[\u001b[0m\n",
       "        \u001b[32m'The next question is, that motion S6M-17009, in the name of Richard Lochhead, on the\u001b[0m\n",
       "\u001b[32mData \u001b[0m\u001b[32m(\u001b[0m\u001b[32mUse and Access\u001b[0m\u001b[32m)\u001b[0m\u001b[32m Bill, which is United Kingdom legislation, be agreed to.'\u001b[0m\n",
       "    \u001b[1m]\u001b[0m,\n",
       "    \u001b[33mflags\u001b[0m=\u001b[1m[\u001b[0m\u001b[32m'one_line_motion'\u001b[0m\u001b[1m]\u001b[0m,\n",
       "    \u001b[33mgid\u001b[0m=\u001b[32m'uk.org.publicwhip/spor/2025-04-01.4.3.0'\u001b[0m\n",
       "\u001b[1m)\u001b[0m\n"
      ]
     },
     "metadata": {},
     "output_type": "display_data"
    }
   ],
   "source": [
    "reload(motion_title_extraction)\n",
    "reload(motions)\n",
    "\n",
    "\n",
    "debate_date = \"2025-04-01\"\n",
    "transcript_path = get_latest_for_date(\n",
    "    datetime.date.fromisoformat(debate_date),\n",
    "    download_path=debates_path,\n",
    "    chamber=Chamber.SCOTLAND,\n",
    ")\n",
    "transcript = Transcript.from_xml_path(transcript_path)\n",
    "\n",
    "found_motions = motions.get_motions(Chamber.SCOTLAND, transcript, debate_date)\n",
    "\n",
    "# uncomment the next line to update the data for test comparisons (locking the below as correct)\n",
    "# found_motions.dump_test_data(tests_path)\n",
    "\n",
    "\n",
    "for m in found_motions:\n",
    "    if \"S6M-17009\" in str(m):\n",
    "        rich.print(m)\n",
    "#\n",
    "\n",
    "# https://www.theyworkforyou.com/debates/?id=2024-04-24b.1035.1"
   ]
  },
  {
   "cell_type": "code",
   "execution_count": 4,
   "metadata": {},
   "outputs": [
    {
     "data": {
      "text/plain": [
       "<re.Match object; span=(0, 134), match='That the draft Economic Growth (Regulatory Functi>"
      ]
     },
     "execution_count": 4,
     "metadata": {},
     "output_type": "execute_result"
    }
   ],
   "source": [
    "import re\n",
    "\n",
    "t = re.compile(r\"^That the draft .+ be approved\", re.IGNORECASE)\n",
    "t.search(\n",
    "    \"That the draft Economic Growth (Regulatory Functions) (Amendment) Order 2024, which was laid before this House on 6 March, be approved.\"\n",
    ")"
   ]
  }
 ],
 "metadata": {
  "kernelspec": {
   "display_name": "Python 3",
   "language": "python",
   "name": "python3"
  },
  "language_info": {
   "codemirror_mode": {
    "name": "ipython",
    "version": 3
   },
   "file_extension": ".py",
   "mimetype": "text/x-python",
   "name": "python",
   "nbconvert_exporter": "python",
   "pygments_lexer": "ipython3",
   "version": "3.10.12"
  }
 },
 "nbformat": 4,
 "nbformat_minor": 2
}
