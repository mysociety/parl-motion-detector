{
 "cells": [
  {
   "cell_type": "code",
   "execution_count": 5,
   "metadata": {},
   "outputs": [],
   "source": [
    "from __future__ import annotations\n",
    "\n",
    "import datetime\n",
    "from importlib import reload\n",
    "from pathlib import Path\n",
    "from typing import (\n",
    "    TypeVar,\n",
    ")\n",
    "\n",
    "import rich\n",
    "from mysoc_validator import Transcript\n",
    "\n",
    "from parl_motion_detector import motion_title_extraction, motions\n",
    "from parl_motion_detector.downloader import get_latest_for_date\n",
    "\n",
    "T = TypeVar(\"T\")\n",
    "\n",
    "debates_path = Path(\"..\", \"data\")\n",
    "tests_path = Path(\"..\", \"data\", \"tests\")"
   ]
  },
  {
   "cell_type": "code",
   "execution_count": 14,
   "metadata": {},
   "outputs": [
    {
     "data": {
      "text/html": [
       "<pre style=\"white-space:pre;overflow-x:auto;line-height:normal;font-family:Menlo,'DejaVu Sans Mono',consolas,'Courier New',monospace\"><span style=\"color: #800080; text-decoration-color: #800080; font-weight: bold\">Motion</span><span style=\"font-weight: bold\">(</span>\n",
       "    <span style=\"color: #808000; text-decoration-color: #808000\">date</span>=<span style=\"color: #008000; text-decoration-color: #008000\">'2021-02-22'</span>,\n",
       "    <span style=\"color: #808000; text-decoration-color: #808000\">motion_title</span>=<span style=\"color: #008000; text-decoration-color: #008000\">'Adjournment Debate: Transport Committee'</span>,\n",
       "    <span style=\"color: #808000; text-decoration-color: #808000\">major_heading_id</span>=<span style=\"color: #008000; text-decoration-color: #008000\">'uk.org.publicwhip/debate/2021-02-22b.733.5'</span>,\n",
       "    <span style=\"color: #808000; text-decoration-color: #808000\">minor_heading_id</span>=<span style=\"color: #008000; text-decoration-color: #008000\">''</span>,\n",
       "    <span style=\"color: #808000; text-decoration-color: #808000\">major_heading_title</span>=<span style=\"color: #008000; text-decoration-color: #008000\">'Transport Committee'</span>,\n",
       "    <span style=\"color: #808000; text-decoration-color: #808000\">minor_heading_title</span>=<span style=\"color: #008000; text-decoration-color: #008000\">'None'</span>,\n",
       "    <span style=\"color: #808000; text-decoration-color: #808000\">speech_start_pid</span>=<span style=\"color: #008000; text-decoration-color: #008000\">'b733.6/1'</span>,\n",
       "    <span style=\"color: #808000; text-decoration-color: #808000\">speech_id</span>=<span style=\"color: #008000; text-decoration-color: #008000\">'uk.org.publicwhip/debate/2021-02-22b.733.6'</span>,\n",
       "    <span style=\"color: #808000; text-decoration-color: #808000\">final_speech_id</span>=<span style=\"color: #008000; text-decoration-color: #008000\">'uk.org.publicwhip/debate/2021-02-22b.734.1'</span>,\n",
       "    <span style=\"color: #808000; text-decoration-color: #808000\">end_reason</span>=<span style=\"color: #008000; text-decoration-color: #008000\">'amendment closed with name'</span>,\n",
       "    <span style=\"color: #808000; text-decoration-color: #808000\">motion_lines</span>=<span style=\"font-weight: bold\">[</span>\n",
       "        <span style=\"color: #008000; text-decoration-color: #008000\">'Ordered,'</span>,\n",
       "        <span style=\"color: #008000; text-decoration-color: #008000\">'That Sam Tarry be discharged from the Transport Committee and Ben Bradshaw be </span>\n",
       "<span style=\"color: #008000; text-decoration-color: #008000\">added.—(Bill Wiggin, on behalf of the Committee of Selection.)'</span>,\n",
       "        <span style=\"color: #008000; text-decoration-color: #008000\">'Motion made, and Question proposed, That this House do now adjourn.—(David Duguid.)'</span>\n",
       "    <span style=\"font-weight: bold\">]</span>,\n",
       "    <span style=\"color: #808000; text-decoration-color: #808000\">flags</span>=<span style=\"font-weight: bold\">[</span><span style=\"color: #008000; text-decoration-color: #008000\">'after_decision'</span><span style=\"font-weight: bold\">]</span>,\n",
       "    <span style=\"color: #808000; text-decoration-color: #808000\">gid</span>=<span style=\"color: #008000; text-decoration-color: #008000\">'uk.org.publicwhip/debate/2021-02-22b.733.6.1'</span>\n",
       "<span style=\"font-weight: bold\">)</span>\n",
       "</pre>\n"
      ],
      "text/plain": [
       "\u001b[1;35mMotion\u001b[0m\u001b[1m(\u001b[0m\n",
       "    \u001b[33mdate\u001b[0m=\u001b[32m'2021-02-22'\u001b[0m,\n",
       "    \u001b[33mmotion_title\u001b[0m=\u001b[32m'Adjournment Debate: Transport Committee'\u001b[0m,\n",
       "    \u001b[33mmajor_heading_id\u001b[0m=\u001b[32m'uk.org.publicwhip/debate/2021-02-22b.733.5'\u001b[0m,\n",
       "    \u001b[33mminor_heading_id\u001b[0m=\u001b[32m''\u001b[0m,\n",
       "    \u001b[33mmajor_heading_title\u001b[0m=\u001b[32m'Transport Committee'\u001b[0m,\n",
       "    \u001b[33mminor_heading_title\u001b[0m=\u001b[32m'None'\u001b[0m,\n",
       "    \u001b[33mspeech_start_pid\u001b[0m=\u001b[32m'b733.6/1'\u001b[0m,\n",
       "    \u001b[33mspeech_id\u001b[0m=\u001b[32m'uk.org.publicwhip/debate/2021-02-22b.733.6'\u001b[0m,\n",
       "    \u001b[33mfinal_speech_id\u001b[0m=\u001b[32m'uk.org.publicwhip/debate/2021-02-22b.734.1'\u001b[0m,\n",
       "    \u001b[33mend_reason\u001b[0m=\u001b[32m'amendment closed with name'\u001b[0m,\n",
       "    \u001b[33mmotion_lines\u001b[0m=\u001b[1m[\u001b[0m\n",
       "        \u001b[32m'Ordered,'\u001b[0m,\n",
       "        \u001b[32m'That Sam Tarry be discharged from the Transport Committee and Ben Bradshaw be \u001b[0m\n",
       "\u001b[32madded.—\u001b[0m\u001b[32m(\u001b[0m\u001b[32mBill Wiggin, on behalf of the Committee of Selection.\u001b[0m\u001b[32m)\u001b[0m\u001b[32m'\u001b[0m,\n",
       "        \u001b[32m'Motion made, and Question proposed, That this House do now adjourn.—\u001b[0m\u001b[32m(\u001b[0m\u001b[32mDavid Duguid.\u001b[0m\u001b[32m)\u001b[0m\u001b[32m'\u001b[0m\n",
       "    \u001b[1m]\u001b[0m,\n",
       "    \u001b[33mflags\u001b[0m=\u001b[1m[\u001b[0m\u001b[32m'after_decision'\u001b[0m\u001b[1m]\u001b[0m,\n",
       "    \u001b[33mgid\u001b[0m=\u001b[32m'uk.org.publicwhip/debate/2021-02-22b.733.6.1'\u001b[0m\n",
       "\u001b[1m)\u001b[0m\n"
      ]
     },
     "metadata": {},
     "output_type": "display_data"
    }
   ],
   "source": [
    "reload(motion_title_extraction)\n",
    "reload(motions)\n",
    "\n",
    "\n",
    "debate_date = \"2021-02-22\"\n",
    "transcript_path = get_latest_for_date(\n",
    "    datetime.date.fromisoformat(debate_date), download_path=debates_path\n",
    ")\n",
    "transcript = Transcript.from_xml_path(transcript_path)\n",
    "\n",
    "found_motions = motions.get_motions(transcript, debate_date)\n",
    "\n",
    "# uncomment the next line to update the data for test comparisons (locking the below as correct)\n",
    "# found_motions.dump_test_data(tests_path)\n",
    "\n",
    "for m in found_motions:\n",
    "    if \"do now adjourn\" in str(m):\n",
    "        rich.print(m)\n",
    "\n",
    "# rich.print(found_motions)\n",
    "\n",
    "# https://www.theyworkforyou.com/debates/?id=2024-04-24b.1035.1"
   ]
  },
  {
   "cell_type": "code",
   "execution_count": 3,
   "metadata": {},
   "outputs": [
    {
     "data": {
      "text/plain": [
       "<re.Match object; span=(0, 134), match='That the draft Economic Growth (Regulatory Functi>"
      ]
     },
     "execution_count": 3,
     "metadata": {},
     "output_type": "execute_result"
    }
   ],
   "source": [
    "import re\n",
    "\n",
    "t = re.compile(r\"^That the draft .+ be approved\", re.IGNORECASE)\n",
    "t.search(\n",
    "    \"That the draft Economic Growth (Regulatory Functions) (Amendment) Order 2024, which was laid before this House on 6 March, be approved.\"\n",
    ")"
   ]
  }
 ],
 "metadata": {
  "language_info": {
   "name": "python"
  }
 },
 "nbformat": 4,
 "nbformat_minor": 2
}
