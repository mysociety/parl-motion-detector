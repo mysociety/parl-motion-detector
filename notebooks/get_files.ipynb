{
 "cells": [
  {
   "cell_type": "code",
   "execution_count": 14,
   "metadata": {},
   "outputs": [
    {
     "data": {
      "text/plain": [
       "PosixPath('../data/pwdata/scrapedxml/debates/debates2022-05-23b.xml')"
      ]
     },
     "execution_count": 14,
     "metadata": {},
     "output_type": "execute_result"
    }
   ],
   "source": [
    "import datetime\n",
    "from functools import lru_cache\n",
    "from pathlib import Path\n",
    "\n",
    "import requests\n",
    "from bs4 import BeautifulSoup\n",
    "\n",
    "\n",
    "@lru_cache\n",
    "def list_files_from_http(url: str) -> list[str]:\n",
    "    response = requests.get(url)\n",
    "    soup = BeautifulSoup(response.text, \"html.parser\")\n",
    "    files = []\n",
    "    # Assuming the directory listing is an unordered list or contains <a> tags with file links\n",
    "    for link in soup.find_all(\"a\"):\n",
    "        file_name = link.get(\"href\")\n",
    "        if file_name:  # Filter out directory navigation links like '../' and './'\n",
    "            files.append(file_name)\n",
    "    return files\n",
    "\n",
    "\n",
    "def get_latest_for_date(\n",
    "    date: datetime.date, folder=\"debates\", prepattern=\"debates\", letter=\"a\"\n",
    "):\n",
    "    url = f\"https://www.theyworkforyou.com/pwdata/scrapedxml/{folder}/{prepattern}{date.isoformat()}{letter}.xml\"\n",
    "    local_path = (\n",
    "        Path(\"..\", \"data\", \"pwdata\", \"scrapedxml\")\n",
    "        / folder\n",
    "        / f\"{prepattern}{date.isoformat()}{letter}.xml\"\n",
    "    )\n",
    "\n",
    "    if not local_path.exists():\n",
    "        local_path.parent.mkdir(parents=True, exist_ok=True)\n",
    "        response = requests.get(url)\n",
    "        if response.status_code == 404:\n",
    "            raise FileNotFoundError(f\"File {url} not found\")\n",
    "        with local_path.open(\"w\") as f:\n",
    "            f.write(response.text)\n",
    "        content = response.text\n",
    "    else:\n",
    "        content = local_path.read_text()\n",
    "\n",
    "    if 'latest=\"yes\"' in content:\n",
    "        # download the file\n",
    "        return local_path\n",
    "    else:\n",
    "        return get_latest_for_date(date, folder, prepattern, chr(ord(letter) + 1))\n",
    "\n",
    "\n",
    "get_latest_for_date(datetime.date.fromisoformat(\"2022-05-23\"))"
   ]
  }
 ],
 "metadata": {
  "language_info": {
   "name": "python"
  }
 },
 "nbformat": 4,
 "nbformat_minor": 2
}
